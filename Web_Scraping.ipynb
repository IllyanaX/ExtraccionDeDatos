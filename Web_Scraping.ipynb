{
  "nbformat": 4,
  "nbformat_minor": 0,
  "metadata": {
    "colab": {
      "provenance": [],
      "authorship_tag": "ABX9TyOv29HGA3GDcFMjKF48nBWb",
      "include_colab_link": true
    },
    "kernelspec": {
      "name": "python3",
      "display_name": "Python 3"
    },
    "language_info": {
      "name": "python"
    }
  },
  "cells": [
    {
      "cell_type": "markdown",
      "metadata": {
        "id": "view-in-github",
        "colab_type": "text"
      },
      "source": [
        "<a href=\"https://colab.research.google.com/github/IllyanaX/ExtraccionDeDatos/blob/main/Web_Scraping.ipynb\" target=\"_parent\"><img src=\"https://colab.research.google.com/assets/colab-badge.svg\" alt=\"Open In Colab\"/></a>"
      ]
    },
    {
      "cell_type": "markdown",
      "source": [
        "# **Como usar una API**\n",
        "\n",
        "## Uso de API de manera directa\n",
        "\n",
        "Realizaremos un ejemplo sencillo con el método GET, para la extracción de datos de la página https://sunrise-sunset.org/api que ofrece el tiempo en el que salió o se pusó el solo dependiendo de una latitud y una longitud dadas.\n",
        "\n",
        "Las APIs suelen tener dos tipos de parámetros para el requerimiento de datos: obligatorios y opcionales. En el caso de nuestro ejemplo los parámetros son:\n",
        "\n",
        "* Latitud (lat): Parámentro es obligatorio y debe especificarse como un tipo de dato float.\n",
        "* Longitud (lng): Parámentro es obligatorio y debe especificarse como un tipo de dato float.\n",
        "* Fecha (date): Parámetro opcional, el formato debe ser: AAAA-MM-DD, aunque esta API acepta otros formatos, si no se ingresa ninguna fecha en específico, utiliza el día actual\n",
        "* Función *callback*: Parámetro opcional, tipo de dato string.\n",
        "* Identificador de zona horaria (tzld): Parámetro opcional, este parámetro nos permite establacer la zona horario, tipo de dato string.\n",
        "\n",
        "La estructura de la consutla (*query*):\n",
        "\n",
        "URL base con el respectivo dato de transmisión, en este caso JSON:\n",
        "\n",
        "`https://api.sunrise-sunset.org/json?`\n",
        "\n",
        "Los parámetros:\n",
        "\n",
        "`lat = 19.437034782996776`\n",
        "\n",
        "`lng = -99.15456376522646`\n",
        "\n",
        "`date = 2023-01-01`\n"
      ],
      "metadata": {
        "id": "g-1XihdJEe7Z"
      }
    },
    {
      "cell_type": "code",
      "source": [
        "import requests\n",
        "import json"
      ],
      "metadata": {
        "id": "YfIkspGyTNZm"
      },
      "execution_count": 1,
      "outputs": []
    },
    {
      "cell_type": "code",
      "source": [
        "# Definimos los parámetros de la query\n",
        "\n",
        "latitude = 19.437034782996776\n",
        "longitude = -99.15456376522646\n",
        "date = \"2023-01-01\"\n",
        "\n",
        "# Realizamos la consulta y la almacenamos en una variable nueva\n",
        "\n",
        "sunset_answer = requests.get(f\"https://api.sunrise-sunset.org/json?lat={latitude}&lng=*{longitude}&date={date}\")"
      ],
      "metadata": {
        "id": "8WrlcNZfItCG"
      },
      "execution_count": null,
      "outputs": []
    },
    {
      "cell_type": "code",
      "source": [
        "type(sunset_answer)"
      ],
      "metadata": {
        "colab": {
          "base_uri": "https://localhost:8080/"
        },
        "id": "m6bS30sGT8z3",
        "outputId": "a86ba855-f3c0-4f58-dc40-92ee1fabc926"
      },
      "execution_count": null,
      "outputs": [
        {
          "output_type": "execute_result",
          "data": {
            "text/plain": [
              "requests.models.Response"
            ]
          },
          "metadata": {},
          "execution_count": 4
        }
      ]
    },
    {
      "cell_type": "code",
      "source": [
        "# Cargamos el objeto como JSON, porque hasta ahora es de tipo 'HHTPRESPONSE', a través de su des-seralización\n",
        "sunset_data = sunset_answer.json()\n",
        "print(sunset_data)"
      ],
      "metadata": {
        "colab": {
          "base_uri": "https://localhost:8080/"
        },
        "id": "xQ3itoj9UDyR",
        "outputId": "ab6f8a56-d7a0-4ce9-bf42-aa35e0dac18f"
      },
      "execution_count": null,
      "outputs": [
        {
          "output_type": "stream",
          "name": "stdout",
          "text": [
            "{'results': {'sunrise': '6:32:45 AM', 'sunset': '5:34:08 PM', 'solar_noon': '12:03:26 PM', 'day_length': '11:01:23', 'civil_twilight_begin': '6:10:10 AM', 'civil_twilight_end': '5:56:43 PM', 'nautical_twilight_begin': '5:42:51 AM', 'nautical_twilight_end': '6:24:02 PM', 'astronomical_twilight_begin': '5:15:50 AM', 'astronomical_twilight_end': '6:51:03 PM'}, 'status': 'OK', 'tzId': 'UTC'}\n"
          ]
        }
      ]
    },
    {
      "cell_type": "code",
      "source": [
        "type(sunset_data)"
      ],
      "metadata": {
        "colab": {
          "base_uri": "https://localhost:8080/"
        },
        "id": "pgO3CkOi7lpE",
        "outputId": "134118cc-7c57-491f-e843-4b317ffb0a5c"
      },
      "execution_count": null,
      "outputs": [
        {
          "output_type": "execute_result",
          "data": {
            "text/plain": [
              "dict"
            ]
          },
          "metadata": {},
          "execution_count": 6
        }
      ]
    },
    {
      "cell_type": "code",
      "source": [
        "#Como nuestro objeto es un diccionario podemos usarlo como tal\n",
        "sunset_data['results']['sunset']"
      ],
      "metadata": {
        "colab": {
          "base_uri": "https://localhost:8080/",
          "height": 35
        },
        "id": "O-BZFGIMDYjH",
        "outputId": "2bc4d609-90dd-460f-eb64-965b7cfc0c5b"
      },
      "execution_count": null,
      "outputs": [
        {
          "output_type": "execute_result",
          "data": {
            "text/plain": [
              "'5:34:08 PM'"
            ],
            "application/vnd.google.colaboratory.intrinsic+json": {
              "type": "string"
            }
          },
          "metadata": {},
          "execution_count": 9
        }
      ]
    },
    {
      "cell_type": "code",
      "source": [
        "sunset_data[\"results\"]"
      ],
      "metadata": {
        "colab": {
          "base_uri": "https://localhost:8080/"
        },
        "id": "FIHcqBhmerR9",
        "outputId": "3b80243c-d463-41b3-d26e-dad7a30c011c"
      },
      "execution_count": null,
      "outputs": [
        {
          "output_type": "execute_result",
          "data": {
            "text/plain": [
              "{'sunrise': '6:32:45 AM',\n",
              " 'sunset': '5:34:08 PM',\n",
              " 'solar_noon': '12:03:26 PM',\n",
              " 'day_length': '11:01:23',\n",
              " 'civil_twilight_begin': '6:10:10 AM',\n",
              " 'civil_twilight_end': '5:56:43 PM',\n",
              " 'nautical_twilight_begin': '5:42:51 AM',\n",
              " 'nautical_twilight_end': '6:24:02 PM',\n",
              " 'astronomical_twilight_begin': '5:15:50 AM',\n",
              " 'astronomical_twilight_end': '6:51:03 PM'}"
            ]
          },
          "metadata": {},
          "execution_count": 11
        }
      ]
    },
    {
      "cell_type": "code",
      "source": [
        "sunrise = sunset_data[\"results\"]['sunrise']\n",
        "print(f\"En {date} el sol salió a las {sunrise} (UTC)\")"
      ],
      "metadata": {
        "colab": {
          "base_uri": "https://localhost:8080/"
        },
        "id": "v_pUqAXbhvGx",
        "outputId": "45347d28-b785-4850-d417-e3b4e2764c2f"
      },
      "execution_count": null,
      "outputs": [
        {
          "output_type": "stream",
          "name": "stdout",
          "text": [
            "En 2023-01-01 el sol salió a las 6:32:45 AM (UTC)\n"
          ]
        }
      ]
    },
    {
      "cell_type": "markdown",
      "source": [
        "## Uso de API por medio de un libreria\n",
        "\n",
        "A veces no es resulta posible utilizar APIs de manera directa, en estos casos utilizaremos una herramienta llamada *wrapper*. Un wrapper es un tipo de código que se utiliza para envolver la funcionalidad de una biblioteca o API, facilita el uso de una librería o servicio al proporcionar funciones y métodos más simples y comprensibles."
      ],
      "metadata": {
        "id": "GzUajxZci6rb"
      }
    },
    {
      "cell_type": "code",
      "source": [
        "#Instalación de paquetes necesarios\n",
        "\n",
        "!pip3 install --force-reinstall -v  \"wikipedia-api==0.5.8\""
      ],
      "metadata": {
        "colab": {
          "base_uri": "https://localhost:8080/",
          "height": 1000
        },
        "id": "ZlBboo1U5qrn",
        "outputId": "10b9ca01-dc40-48e1-8058-e84fc5bb01be"
      },
      "execution_count": 2,
      "outputs": [
        {
          "output_type": "stream",
          "name": "stdout",
          "text": [
            "Using pip 23.1.2 from /usr/local/lib/python3.10/dist-packages/pip (python 3.10)\n",
            "Collecting wikipedia-api==0.5.8\n",
            "  Using cached Wikipedia_API-0.5.8-py3-none-any.whl (13 kB)\n",
            "Collecting requests (from wikipedia-api==0.5.8)\n",
            "  Using cached requests-2.31.0-py3-none-any.whl (62 kB)\n",
            "Collecting charset-normalizer<4,>=2 (from requests->wikipedia-api==0.5.8)\n",
            "  Using cached charset_normalizer-3.3.2-cp310-cp310-manylinux_2_17_x86_64.manylinux2014_x86_64.whl (142 kB)\n",
            "Collecting idna<4,>=2.5 (from requests->wikipedia-api==0.5.8)\n",
            "  Using cached idna-3.6-py3-none-any.whl (61 kB)\n",
            "Collecting urllib3<3,>=1.21.1 (from requests->wikipedia-api==0.5.8)\n",
            "  Using cached urllib3-2.1.0-py3-none-any.whl (104 kB)\n",
            "Collecting certifi>=2017.4.17 (from requests->wikipedia-api==0.5.8)\n",
            "  Using cached certifi-2023.11.17-py3-none-any.whl (162 kB)\n",
            "Installing collected packages: urllib3, idna, charset-normalizer, certifi, requests, wikipedia-api\n",
            "  Attempting uninstall: urllib3\n",
            "    Found existing installation: urllib3 2.1.0\n",
            "    Uninstalling urllib3-2.1.0:\n",
            "      Removing file or directory /usr/local/lib/python3.10/dist-packages/urllib3-2.1.0.dist-info/\n",
            "      Removing file or directory /usr/local/lib/python3.10/dist-packages/urllib3/\n",
            "      Successfully uninstalled urllib3-2.1.0\n",
            "  Attempting uninstall: idna\n",
            "    Found existing installation: idna 3.6\n",
            "    Uninstalling idna-3.6:\n",
            "      Removing file or directory /usr/local/lib/python3.10/dist-packages/idna-3.6.dist-info/\n",
            "      Removing file or directory /usr/local/lib/python3.10/dist-packages/idna/\n",
            "      Successfully uninstalled idna-3.6\n",
            "  Attempting uninstall: charset-normalizer\n",
            "    Found existing installation: charset-normalizer 3.3.2\n",
            "    Uninstalling charset-normalizer-3.3.2:\n",
            "      Removing file or directory /usr/local/bin/normalizer\n",
            "      Removing file or directory /usr/local/lib/python3.10/dist-packages/charset_normalizer-3.3.2.dist-info/\n",
            "      Removing file or directory /usr/local/lib/python3.10/dist-packages/charset_normalizer/\n",
            "      Successfully uninstalled charset-normalizer-3.3.2\n",
            "  changing mode of /usr/local/bin/normalizer to 755\n",
            "  Attempting uninstall: certifi\n",
            "    Found existing installation: certifi 2023.11.17\n",
            "    Uninstalling certifi-2023.11.17:\n",
            "      Removing file or directory /usr/local/lib/python3.10/dist-packages/certifi-2023.11.17.dist-info/\n",
            "      Removing file or directory /usr/local/lib/python3.10/dist-packages/certifi/\n",
            "      Successfully uninstalled certifi-2023.11.17\n",
            "  Attempting uninstall: requests\n",
            "    Found existing installation: requests 2.31.0\n",
            "    Uninstalling requests-2.31.0:\n",
            "      Removing file or directory /usr/local/lib/python3.10/dist-packages/requests-2.31.0.dist-info/\n",
            "      Removing file or directory /usr/local/lib/python3.10/dist-packages/requests/\n",
            "      Successfully uninstalled requests-2.31.0\n",
            "  Attempting uninstall: wikipedia-api\n",
            "    Found existing installation: Wikipedia-API 0.5.8\n",
            "    Uninstalling Wikipedia-API-0.5.8:\n",
            "      Removing file or directory /usr/local/lib/python3.10/dist-packages/Wikipedia_API-0.5.8.dist-info/\n",
            "      Removing file or directory /usr/local/lib/python3.10/dist-packages/wikipediaapi/\n",
            "      Successfully uninstalled Wikipedia-API-0.5.8\n",
            "\u001b[31mERROR: pip's dependency resolver does not currently take into account all the packages that are installed. This behaviour is the source of the following dependency conflicts.\n",
            "lida 0.0.10 requires fastapi, which is not installed.\n",
            "lida 0.0.10 requires kaleido, which is not installed.\n",
            "lida 0.0.10 requires python-multipart, which is not installed.\n",
            "lida 0.0.10 requires uvicorn, which is not installed.\u001b[0m\u001b[31m\n",
            "\u001b[0mSuccessfully installed certifi-2023.11.17 charset-normalizer-3.3.2 idna-3.6 requests-2.31.0 urllib3-2.1.0 wikipedia-api-0.5.8\n"
          ]
        },
        {
          "output_type": "display_data",
          "data": {
            "application/vnd.colab-display-data+json": {
              "pip_warning": {
                "packages": [
                  "certifi",
                  "charset_normalizer",
                  "requests"
                ]
              }
            }
          },
          "metadata": {}
        }
      ]
    },
    {
      "cell_type": "code",
      "source": [
        "#importamos la libreria y corrboramos la versión\n",
        "import wikipediaapi\n",
        "\n",
        "print(wikipediaapi.__version__)"
      ],
      "metadata": {
        "colab": {
          "base_uri": "https://localhost:8080/"
        },
        "id": "nV5iMvWE6eF4",
        "outputId": "675c1efe-a09f-4ab1-fe60-d9ead2bbf464"
      },
      "execution_count": 7,
      "outputs": [
        {
          "output_type": "stream",
          "name": "stdout",
          "text": [
            "(0, 5, 8)\n"
          ]
        }
      ]
    },
    {
      "cell_type": "code",
      "source": [
        "#Instanciamos la clase wikipedia y el método Wikipedia con el parámetro idioma\n",
        "\n",
        "IDIOMA = 'es'\n",
        "wiki = wikipediaapi.Wikipedia(IDIOMA)\n",
        "\n",
        "#Utilizamos el método page y hacemos un request con el parámetro key_word\n",
        "\n",
        "key_word = 'Godel'\n",
        "wikipedia_Godel = wiki.page(key_word)"
      ],
      "metadata": {
        "id": "OXc0kdDb-r7k"
      },
      "execution_count": 6,
      "outputs": []
    },
    {
      "cell_type": "code",
      "source": [
        "#ahora podemos ver los diferentes atributos de Gödel usado diferentes métodos\n",
        "\n",
        "print(wikipedia_Godel.title)\n",
        "print(wikipedia_Godel.summary)"
      ],
      "metadata": {
        "colab": {
          "base_uri": "https://localhost:8080/"
        },
        "id": "OV9BGUkMAsYF",
        "outputId": "ecdc64c2-74e2-4d10-ce29-ab86f141223e"
      },
      "execution_count": 11,
      "outputs": [
        {
          "output_type": "stream",
          "name": "stdout",
          "text": [
            "Kurt Gödel\n",
            "Kurt Friedrich Gödel ([ˈkʊʁt ˈɡøːdəl]; Brünn, Imperio austrohúngaro, actual República Checa, 28 de abril de 1906-Princeton, Estados Unidos; 14 de enero de 1978), conocido como Kurt Gödel, fue un lógico, matemático y filósofo austríaco.[1]​\n",
            "Se le considera uno de los lógicos más importantes de todos los tiempos. Su trabajo ha tenido un impacto inmenso en el pensamiento científico y filosófico del siglo XX. Al igual que otros pensadores —como Gottlob Frege, Bertrand Russell, A. N. Whitehead y David Hilbert—, Gödel intentó emplear la lógica y la teoría de conjuntos para comprender los fundamentos de la matemática.\n",
            "Se le conoce sobre todo por sus dos teoremas de la incompletitud, publicados en 1931, un año después de finalizar su doctorado en la Universidad de Viena. El más célebre establece que para todo sistema axiomático recursivo autoconsistente lo suficientemente poderoso como para describir la aritmética de los números naturales (la aritmética de Peano), existen proposiciones verdaderas sobre los naturales que no pueden demostrarse a partir de los axiomas. Para demostrar este teorema, desarrolló una técnica denominada ahora numeración de Gödel, que codifica expresiones formales como números naturales.\n",
            "También demostró que la hipótesis del continuo no puede refutarse desde los axiomas aceptados de la teoría de conjuntos, si dichos axiomas son consistentes. Realizó importantes contribuciones a la teoría de la demostración al esclarecer las conexiones entre la lógica clásica, la lógica intuicionista y la lógica modal.\n"
          ]
        }
      ]
    },
    {
      "cell_type": "code",
      "source": [
        "print(wikipedia_Godel.fullurl)"
      ],
      "metadata": {
        "colab": {
          "base_uri": "https://localhost:8080/"
        },
        "id": "4GmGOPXfCtDc",
        "outputId": "20553722-3bed-4c86-ec40-39dabe3cef2d"
      },
      "execution_count": 12,
      "outputs": [
        {
          "output_type": "stream",
          "name": "stdout",
          "text": [
            "https://es.wikipedia.org/wiki/Kurt_G%C3%B6del\n"
          ]
        }
      ]
    }
  ]
}