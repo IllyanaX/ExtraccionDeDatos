{
  "nbformat": 4,
  "nbformat_minor": 0,
  "metadata": {
    "colab": {
      "provenance": [],
      "authorship_tag": "ABX9TyMUUUwwt+s6wmP0304w55mn",
      "include_colab_link": true
    },
    "kernelspec": {
      "name": "python3",
      "display_name": "Python 3"
    },
    "language_info": {
      "name": "python"
    }
  },
  "cells": [
    {
      "cell_type": "markdown",
      "metadata": {
        "id": "view-in-github",
        "colab_type": "text"
      },
      "source": [
        "<a href=\"https://colab.research.google.com/github/IllyanaX/ExtraccionDeDatos/blob/main/Web_Scraping.ipynb\" target=\"_parent\"><img src=\"https://colab.research.google.com/assets/colab-badge.svg\" alt=\"Open In Colab\"/></a>"
      ]
    },
    {
      "cell_type": "markdown",
      "source": [
        "# **Como usar APIs**\n",
        "\n",
        "## Uso de API de manera directa\n",
        "\n",
        "Realizaremos un ejemplo sencillo con el método GET, para la extracción de datos de la página https://sunrise-sunset.org/api que ofrece el tiempo en el que salió o se pusó el solo dependiendo de una latitud y una longitud dadas.\n",
        "\n",
        "Las APIs suelen tener dos tipos de parámetros para el requerimiento de datos: obligatorios y opcionales. En el caso de nuestro ejemplo los parámetros son:\n",
        "\n",
        "* Latitud (lat): Parámentro es obligatorio y debe especificarse como un tipo de dato float.\n",
        "* Longitud (lng): Parámentro es obligatorio y debe especificarse como un tipo de dato float.\n",
        "* Fecha (date): Parámetro opcional, el formato debe ser: AAAA-MM-DD, aunque esta API acepta otros formatos, si no se ingresa ninguna fecha en específico, utiliza el día actual\n",
        "* Función *callback*: Parámetro opcional, tipo de dato string.\n",
        "* Identificador de zona horaria (tzld): Parámetro opcional, este parámetro nos permite establacer la zona horario, tipo de dato string.\n",
        "\n",
        "La estructura de la consutla (*query*):\n",
        "\n",
        "URL base con el respectivo dato de transmisión, en este caso JSON:\n",
        "\n",
        "`https://api.sunrise-sunset.org/json?`\n",
        "\n",
        "Los parámetros:\n",
        "\n",
        "`lat = 19.437034782996776`\n",
        "\n",
        "`lng = -99.15456376522646`\n",
        "\n",
        "`date = 2023-01-01`\n"
      ],
      "metadata": {
        "id": "g-1XihdJEe7Z"
      }
    },
    {
      "cell_type": "code",
      "source": [
        "import requests\n",
        "import json"
      ],
      "metadata": {
        "id": "YfIkspGyTNZm"
      },
      "execution_count": 1,
      "outputs": []
    },
    {
      "cell_type": "code",
      "source": [
        "# Definimos los parámetros de la query\n",
        "\n",
        "latitude = 19.437034782996776\n",
        "longitude = -99.15456376522646\n",
        "date = \"2023-01-01\"\n",
        "\n",
        "# Realizamos la consulta y la almacenamos en una variable nueva\n",
        "\n",
        "sunset_answer = requests.get(f\"https://api.sunrise-sunset.org/json?lat={latitude}&lng=*{longitude}&date={date}\")"
      ],
      "metadata": {
        "id": "8WrlcNZfItCG"
      },
      "execution_count": null,
      "outputs": []
    },
    {
      "cell_type": "code",
      "source": [
        "type(sunset_answer)"
      ],
      "metadata": {
        "colab": {
          "base_uri": "https://localhost:8080/"
        },
        "id": "m6bS30sGT8z3",
        "outputId": "a86ba855-f3c0-4f58-dc40-92ee1fabc926"
      },
      "execution_count": null,
      "outputs": [
        {
          "output_type": "execute_result",
          "data": {
            "text/plain": [
              "requests.models.Response"
            ]
          },
          "metadata": {},
          "execution_count": 4
        }
      ]
    },
    {
      "cell_type": "code",
      "source": [
        "# Cargamos el objeto como JSON, porque hasta ahora es de tipo 'HHTPRESPONSE', a través de su des-seralización\n",
        "sunset_data = sunset_answer.json()\n",
        "print(sunset_data)"
      ],
      "metadata": {
        "colab": {
          "base_uri": "https://localhost:8080/"
        },
        "id": "xQ3itoj9UDyR",
        "outputId": "ab6f8a56-d7a0-4ce9-bf42-aa35e0dac18f"
      },
      "execution_count": null,
      "outputs": [
        {
          "output_type": "stream",
          "name": "stdout",
          "text": [
            "{'results': {'sunrise': '6:32:45 AM', 'sunset': '5:34:08 PM', 'solar_noon': '12:03:26 PM', 'day_length': '11:01:23', 'civil_twilight_begin': '6:10:10 AM', 'civil_twilight_end': '5:56:43 PM', 'nautical_twilight_begin': '5:42:51 AM', 'nautical_twilight_end': '6:24:02 PM', 'astronomical_twilight_begin': '5:15:50 AM', 'astronomical_twilight_end': '6:51:03 PM'}, 'status': 'OK', 'tzId': 'UTC'}\n"
          ]
        }
      ]
    },
    {
      "cell_type": "code",
      "source": [
        "type(sunset_data)"
      ],
      "metadata": {
        "colab": {
          "base_uri": "https://localhost:8080/"
        },
        "id": "pgO3CkOi7lpE",
        "outputId": "134118cc-7c57-491f-e843-4b317ffb0a5c"
      },
      "execution_count": null,
      "outputs": [
        {
          "output_type": "execute_result",
          "data": {
            "text/plain": [
              "dict"
            ]
          },
          "metadata": {},
          "execution_count": 6
        }
      ]
    },
    {
      "cell_type": "code",
      "source": [
        "#Como nuestro objeto es un diccionario podemos usarlo como tal\n",
        "sunset_data['results']['sunset']"
      ],
      "metadata": {
        "colab": {
          "base_uri": "https://localhost:8080/",
          "height": 35
        },
        "id": "O-BZFGIMDYjH",
        "outputId": "2bc4d609-90dd-460f-eb64-965b7cfc0c5b"
      },
      "execution_count": null,
      "outputs": [
        {
          "output_type": "execute_result",
          "data": {
            "text/plain": [
              "'5:34:08 PM'"
            ],
            "application/vnd.google.colaboratory.intrinsic+json": {
              "type": "string"
            }
          },
          "metadata": {},
          "execution_count": 9
        }
      ]
    },
    {
      "cell_type": "code",
      "source": [
        "sunset_data[\"results\"]"
      ],
      "metadata": {
        "colab": {
          "base_uri": "https://localhost:8080/"
        },
        "id": "FIHcqBhmerR9",
        "outputId": "3b80243c-d463-41b3-d26e-dad7a30c011c"
      },
      "execution_count": null,
      "outputs": [
        {
          "output_type": "execute_result",
          "data": {
            "text/plain": [
              "{'sunrise': '6:32:45 AM',\n",
              " 'sunset': '5:34:08 PM',\n",
              " 'solar_noon': '12:03:26 PM',\n",
              " 'day_length': '11:01:23',\n",
              " 'civil_twilight_begin': '6:10:10 AM',\n",
              " 'civil_twilight_end': '5:56:43 PM',\n",
              " 'nautical_twilight_begin': '5:42:51 AM',\n",
              " 'nautical_twilight_end': '6:24:02 PM',\n",
              " 'astronomical_twilight_begin': '5:15:50 AM',\n",
              " 'astronomical_twilight_end': '6:51:03 PM'}"
            ]
          },
          "metadata": {},
          "execution_count": 11
        }
      ]
    },
    {
      "cell_type": "code",
      "source": [
        "sunrise = sunset_data[\"results\"]['sunrise']\n",
        "print(f\"En {date} el sol salió a las {sunrise} (UTC)\")"
      ],
      "metadata": {
        "colab": {
          "base_uri": "https://localhost:8080/"
        },
        "id": "v_pUqAXbhvGx",
        "outputId": "45347d28-b785-4850-d417-e3b4e2764c2f"
      },
      "execution_count": null,
      "outputs": [
        {
          "output_type": "stream",
          "name": "stdout",
          "text": [
            "En 2023-01-01 el sol salió a las 6:32:45 AM (UTC)\n"
          ]
        }
      ]
    },
    {
      "cell_type": "markdown",
      "source": [
        "## Uso de API por medio de un libreria\n",
        "\n",
        "A veces no es resulta posible utilizar APIs de manera directa, en estos casos utilizaremos una herramienta llamada *wrapper*. Un wrapper es un tipo de código que se utiliza para envolver la funcionalidad de una biblioteca o API, facilita el uso de una librería o servicio al proporcionar funciones y métodos más simples y comprensibles."
      ],
      "metadata": {
        "id": "GzUajxZci6rb"
      }
    },
    {
      "cell_type": "code",
      "source": [
        "#Instalación de paquetes necesarios\n",
        "\n",
        "!pip3 install --force-reinstall -v  \"wikipedia-api==0.5.8\""
      ],
      "metadata": {
        "id": "ZlBboo1U5qrn"
      },
      "execution_count": null,
      "outputs": []
    },
    {
      "cell_type": "code",
      "source": [
        "#importamos la libreria y corrboramos la versión\n",
        "import wikipediaapi\n",
        "\n",
        "print(wikipediaapi.__version__)"
      ],
      "metadata": {
        "colab": {
          "base_uri": "https://localhost:8080/"
        },
        "id": "nV5iMvWE6eF4",
        "outputId": "5173ffc2-c0e6-4037-c1bb-f98f0882ca9e"
      },
      "execution_count": 3,
      "outputs": [
        {
          "output_type": "stream",
          "name": "stdout",
          "text": [
            "(0, 5, 8)\n"
          ]
        }
      ]
    },
    {
      "cell_type": "code",
      "source": [
        "#Instanciamos la clase wikipedia y el método Wikipedia con el parámetro idioma\n",
        "\n",
        "IDIOMA = 'es'\n",
        "wiki = wikipediaapi.Wikipedia(IDIOMA)\n",
        "\n",
        "#Utilizamos el método page y hacemos un request con el parámetro key_word\n",
        "\n",
        "key_word = 'Godel'\n",
        "wikipedia_Godel = wiki.page(key_word)"
      ],
      "metadata": {
        "id": "OXc0kdDb-r7k"
      },
      "execution_count": null,
      "outputs": []
    },
    {
      "cell_type": "code",
      "source": [
        "#ahora podemos ver los diferentes atributos de Gödel usado diferentes métodos\n",
        "\n",
        "print(wikipedia_Godel.title)\n",
        "print(wikipedia_Godel.summary)"
      ],
      "metadata": {
        "colab": {
          "base_uri": "https://localhost:8080/"
        },
        "id": "OV9BGUkMAsYF",
        "outputId": "ecdc64c2-74e2-4d10-ce29-ab86f141223e"
      },
      "execution_count": null,
      "outputs": [
        {
          "output_type": "stream",
          "name": "stdout",
          "text": [
            "Kurt Gödel\n",
            "Kurt Friedrich Gödel ([ˈkʊʁt ˈɡøːdəl]; Brünn, Imperio austrohúngaro, actual República Checa, 28 de abril de 1906-Princeton, Estados Unidos; 14 de enero de 1978), conocido como Kurt Gödel, fue un lógico, matemático y filósofo austríaco.[1]​\n",
            "Se le considera uno de los lógicos más importantes de todos los tiempos. Su trabajo ha tenido un impacto inmenso en el pensamiento científico y filosófico del siglo XX. Al igual que otros pensadores —como Gottlob Frege, Bertrand Russell, A. N. Whitehead y David Hilbert—, Gödel intentó emplear la lógica y la teoría de conjuntos para comprender los fundamentos de la matemática.\n",
            "Se le conoce sobre todo por sus dos teoremas de la incompletitud, publicados en 1931, un año después de finalizar su doctorado en la Universidad de Viena. El más célebre establece que para todo sistema axiomático recursivo autoconsistente lo suficientemente poderoso como para describir la aritmética de los números naturales (la aritmética de Peano), existen proposiciones verdaderas sobre los naturales que no pueden demostrarse a partir de los axiomas. Para demostrar este teorema, desarrolló una técnica denominada ahora numeración de Gödel, que codifica expresiones formales como números naturales.\n",
            "También demostró que la hipótesis del continuo no puede refutarse desde los axiomas aceptados de la teoría de conjuntos, si dichos axiomas son consistentes. Realizó importantes contribuciones a la teoría de la demostración al esclarecer las conexiones entre la lógica clásica, la lógica intuicionista y la lógica modal.\n"
          ]
        }
      ]
    },
    {
      "cell_type": "code",
      "source": [
        "print(wikipedia_Godel.fullurl)"
      ],
      "metadata": {
        "colab": {
          "base_uri": "https://localhost:8080/"
        },
        "id": "4GmGOPXfCtDc",
        "outputId": "20553722-3bed-4c86-ec40-39dabe3cef2d"
      },
      "execution_count": null,
      "outputs": [
        {
          "output_type": "stream",
          "name": "stdout",
          "text": [
            "https://es.wikipedia.org/wiki/Kurt_G%C3%B6del\n"
          ]
        }
      ]
    },
    {
      "cell_type": "markdown",
      "source": [
        "\n",
        "# **BeautifulSoup**\n",
        "\n",
        "Documentación de la librería https://beautiful-soup-4.readthedocs.io/en/latest/\n",
        "\n",
        "En este proyecto estaremos utilizabndo una página desarrollada por [freecodecamp](https://www.freecodecamp.org/) y Gustavo Juantorena.\n",
        "\n"
      ],
      "metadata": {
        "id": "-TfIkQuTEWNf"
      }
    },
    {
      "cell_type": "code",
      "source": [
        "from bs4 import BeautifulSoup\n",
        "import requests"
      ],
      "metadata": {
        "id": "ew1xMdGOSgAv"
      },
      "execution_count": 4,
      "outputs": []
    },
    {
      "cell_type": "code",
      "source": [
        "# Versiones\n",
        "import bs4\n",
        "print(\"Versión de BeautifulSoup:\",bs4.__version__)\n",
        "print(\"Versión de requests:\", requests.__version__)"
      ],
      "metadata": {
        "colab": {
          "base_uri": "https://localhost:8080/"
        },
        "id": "0PL6SUk2T182",
        "outputId": "77aa87cd-49e1-46e0-d4c0-871c15e24c3d"
      },
      "execution_count": 5,
      "outputs": [
        {
          "output_type": "stream",
          "name": "stdout",
          "text": [
            "Versión de BeautifulSoup: 4.11.2\n",
            "Versión de requests: 2.31.0\n"
          ]
        }
      ]
    },
    {
      "cell_type": "code",
      "source": [
        "#Scraping\n",
        "\n",
        "# 1. Obtenemos el HTML\n",
        "\n",
        "url_base ='https://scrapepark.org/courses/spanish/'\n",
        "peticion = requests.get(url_base)\n",
        "html = peticion.text\n",
        "\n",
        "# 2. \"Parsear\" el html desde el enlace base\n",
        "\n",
        "soup = BeautifulSoup(html, \"html.parser\")"
      ],
      "metadata": {
        "id": "WbHxGzFRT9zr"
      },
      "execution_count": 7,
      "outputs": []
    },
    {
      "cell_type": "code",
      "source": [
        "type(soup)"
      ],
      "metadata": {
        "colab": {
          "base_uri": "https://localhost:8080/"
        },
        "id": "TcDCb8trqMbV",
        "outputId": "0ec7ceba-0237-47d3-cea9-e076b7a5cb39"
      },
      "execution_count": 8,
      "outputs": [
        {
          "output_type": "execute_result",
          "data": {
            "text/plain": [
              "bs4.BeautifulSoup"
            ]
          },
          "metadata": {},
          "execution_count": 8
        }
      ]
    },
    {
      "cell_type": "markdown",
      "source": [
        "# **Métodos**"
      ],
      "metadata": {
        "id": "KcyNvZgZqYcd"
      }
    },
    {
      "cell_type": "markdown",
      "source": [
        "## `find()`\n",
        "\n",
        "Este método nos permite obtener la información asociada a una etiqueta HTML"
      ],
      "metadata": {
        "id": "KDWlKV4Lqc8-"
      }
    },
    {
      "cell_type": "code",
      "source": [
        "first_h2 = soup.find('h2')\n",
        "\n",
        "print(first_h2)"
      ],
      "metadata": {
        "colab": {
          "base_uri": "https://localhost:8080/"
        },
        "id": "HicotPsK7sLE",
        "outputId": "e865e1e4-ceb2-4094-a076-e3dae662f0a0"
      },
      "execution_count": 13,
      "outputs": [
        {
          "output_type": "stream",
          "name": "stdout",
          "text": [
            "<h2>¿Por qué comprar con nosotros?</h2>\n"
          ]
        }
      ]
    },
    {
      "cell_type": "code",
      "source": [
        "# Solo el texto, lo siguiente sería equivalente a print(soup.h2.text)\n",
        "print(first_h2.text)"
      ],
      "metadata": {
        "colab": {
          "base_uri": "https://localhost:8080/"
        },
        "id": "btr57FFWKnt2",
        "outputId": "ba049135-f74e-445e-c085-08835404ccfa"
      },
      "execution_count": 10,
      "outputs": [
        {
          "output_type": "stream",
          "name": "stdout",
          "text": [
            "¿Por qué comprar con nosotros?\n"
          ]
        }
      ]
    },
    {
      "cell_type": "markdown",
      "source": [
        "## `find_all()`\n",
        "\n",
        "Este método busca todos los elementos de la página dada una etiqueta específica. Cabe mencionar que esta función nos devuelve una lista que contiene dichas etiquetas."
      ],
      "metadata": {
        "id": "n7qtmrfFLmt_"
      }
    },
    {
      "cell_type": "code",
      "source": [
        "all_h2 = soup.find_all('h2')\n",
        "print(all_h2)"
      ],
      "metadata": {
        "colab": {
          "base_uri": "https://localhost:8080/"
        },
        "id": "jowsgfbdMeZs",
        "outputId": "84ec3cce-0ebd-46b2-e54d-577fed295e7f"
      },
      "execution_count": 11,
      "outputs": [
        {
          "output_type": "stream",
          "name": "stdout",
          "text": [
            "[<h2>¿Por qué comprar con nosotros?</h2>, <h2>\r\n",
            "                  #Novedades\r\n",
            "                </h2>, <h2>\r\n",
            "            Nuestros <span>productos</span>\n",
            "</h2>, <h2>\r\n",
            "            Testimonios de clientes\r\n",
            "          </h2>, <h2 class=\"heading-container\">\r\n",
            "          Tabla de precios\r\n",
            "        </h2>]\n"
          ]
        }
      ]
    },
    {
      "cell_type": "code",
      "source": [
        "type(all_h2)"
      ],
      "metadata": {
        "colab": {
          "base_uri": "https://localhost:8080/"
        },
        "id": "owqh61WXOMkI",
        "outputId": "0fabe2ed-9549-4c3a-b4cd-1687fcbc936b"
      },
      "execution_count": 14,
      "outputs": [
        {
          "output_type": "execute_result",
          "data": {
            "text/plain": [
              "bs4.element.ResultSet"
            ]
          },
          "metadata": {},
          "execution_count": 14
        }
      ]
    },
    {
      "cell_type": "code",
      "source": [
        "#También podemos usar argumentos en esta función para ser más específicos en los datos que buscamos.\n",
        "\n",
        "limit_h2 = soup.find_all('h2',limit=1) #limit=1 imita al método find, nos arrojará la primera etiqueta <h2> que encuentre\n",
        "print(limit_h2)"
      ],
      "metadata": {
        "colab": {
          "base_uri": "https://localhost:8080/"
        },
        "id": "WouekBmaNaSz",
        "outputId": "c5fb1745-8c9f-43c7-d6ad-fef096d0cba9"
      },
      "execution_count": 12,
      "outputs": [
        {
          "output_type": "stream",
          "name": "stdout",
          "text": [
            "[<h2>¿Por qué comprar con nosotros?</h2>]\n"
          ]
        }
      ]
    },
    {
      "cell_type": "code",
      "source": [
        "#Al ser una lista podemos iterar sobre este objeto.\n",
        "\n",
        "for i in all_h2:\n",
        "  print(i.text)"
      ],
      "metadata": {
        "colab": {
          "base_uri": "https://localhost:8080/"
        },
        "id": "wO6ADG1POKFb",
        "outputId": "6cdd82c1-1755-4d6b-d299-e48d90b59112"
      },
      "execution_count": 15,
      "outputs": [
        {
          "output_type": "stream",
          "name": "stdout",
          "text": [
            "¿Por qué comprar con nosotros?\n",
            "\r\n",
            "                  #Novedades\r\n",
            "                \n",
            "\r\n",
            "            Nuestros productos\n",
            "\n",
            "\r\n",
            "            Testimonios de clientes\r\n",
            "          \n",
            "\r\n",
            "          Tabla de precios\r\n",
            "        \n"
          ]
        }
      ]
    },
    {
      "cell_type": "code",
      "source": [
        "#contamos con más funcionalidades.\n",
        "\n",
        "for i in all_h2:\n",
        "  print(i.get_text(strip = True))\n",
        "  #strip=True me permite limpiar los espacios en blanco."
      ],
      "metadata": {
        "colab": {
          "base_uri": "https://localhost:8080/"
        },
        "id": "gt5GeGKiPXPx",
        "outputId": "3dba72ff-8a83-4cad-8804-bb49d865d6d0"
      },
      "execution_count": 16,
      "outputs": [
        {
          "output_type": "stream",
          "name": "stdout",
          "text": [
            "¿Por qué comprar con nosotros?\n",
            "#Novedades\n",
            "Nuestrosproductos\n",
            "Testimonios de clientes\n",
            "Tabla de precios\n"
          ]
        }
      ]
    },
    {
      "cell_type": "markdown",
      "source": [
        "## **Selección por atributos**\n",
        "\n",
        "Cuando hacemos web scrapping tenemos que revisar las páginas web y hacer una visualización de la estructura de la página, esto es para poder sacar el mayor provecho y hacer uso de los qtributos en las etiquetas html para la búsqueda de datos a extraer."
      ],
      "metadata": {
        "id": "D7xaZ65PR8ju"
      }
    },
    {
      "cell_type": "code",
      "source": [
        "#A los argumentos podemos también añadirle atributos\n",
        "\n",
        "divs = soup.find_all('div', class_ = \"heading-container heading-center\")\n",
        "#aquí nuestro primer argumento recoge los divs, pero con el segundo aclaramos que no queremos todos los divs\n",
        "\n",
        "for i in divs:\n",
        "  print(i)\n",
        "  print(\" \")"
      ],
      "metadata": {
        "colab": {
          "base_uri": "https://localhost:8080/"
        },
        "id": "Qw-javi9bXs2",
        "outputId": "3c1d6e77-30a6-4ada-b37c-b10e90fab203"
      },
      "execution_count": 18,
      "outputs": [
        {
          "output_type": "stream",
          "name": "stdout",
          "text": [
            "<div class=\"heading-container heading-center\" id=\"acerca\">\n",
            "<h2>¿Por qué comprar con nosotros?</h2>\n",
            "</div>\n",
            " \n",
            "<div class=\"heading-container heading-center\" id=\"productos\">\n",
            "<h2>\r\n",
            "            Nuestros <span>productos</span>\n",
            "</h2>\n",
            "</div>\n",
            " \n",
            "<div class=\"heading-container heading-center\">\n",
            "<h3>Suscríbete para obtener descuentos y ofertas</h3>\n",
            "</div>\n",
            " \n",
            "<div class=\"heading-container heading-center\">\n",
            "<h2>\r\n",
            "            Testimonios de clientes\r\n",
            "          </h2>\n",
            "</div>\n",
            " \n"
          ]
        }
      ]
    },
    {
      "cell_type": "code",
      "source": [
        "#Bajo el mismo concepto sustaeremos todos los atributos que contengan \"src\"\n",
        "\n",
        "all_src = soup.find_all(src = True)\n",
        "\n",
        "for i in all_src:\n",
        "  if i['src'].endswith('.jpg'):\n",
        "    print(i)"
      ],
      "metadata": {
        "colab": {
          "base_uri": "https://localhost:8080/"
        },
        "id": "D0Wfzw_0fzIF",
        "outputId": "9b0e4486-5745-489c-b92d-bdfca5492d71"
      },
      "execution_count": 19,
      "outputs": [
        {
          "output_type": "stream",
          "name": "stdout",
          "text": [
            "<img alt=\"Parque de patinaje\" src=\"images/slider-bg.jpg\"/>\n",
            "<img alt=\"Patineta 2\" src=\"images/p2.jpg\"/>\n"
          ]
        }
      ]
    },
    {
      "cell_type": "code",
      "source": [
        "#Encontrar todas las imagenes\n",
        "\n",
        "all_images = []\n",
        "\n",
        "for i, j in enumerate(all_src):\n",
        "  if j['src'].endswith('png'):\n",
        "    print(j['src'])\n",
        "    pedir = requests.get(f\"https://scrapepark.org/courses/spanish/{j['src']}\")\n",
        "\n",
        "#Hacemos uso de un context manager, esto nos permite asignar y liberar recursos.\n",
        "    with open(f'imagen_{i}.png', 'wb') as f:\n",
        "      f.write(pedir.content)"
      ],
      "metadata": {
        "colab": {
          "base_uri": "https://localhost:8080/"
        },
        "id": "VGyfwAr7j4AJ",
        "outputId": "4c315600-91b2-4c36-9a1e-88a9704f716c"
      },
      "execution_count": 20,
      "outputs": [
        {
          "output_type": "stream",
          "name": "stdout",
          "text": [
            "images/arrival-bg-store.png\n",
            "images/p1.png\n",
            "images/p3.png\n",
            "images/p4.png\n",
            "images/p5.png\n",
            "images/p6.png\n",
            "images/p7.png\n",
            "images/p8.png\n",
            "images/p9.png\n",
            "images/p10.png\n",
            "images/p11.png\n",
            "images/p12.png\n",
            "images/client-one.png\n",
            "images/client-two.png\n",
            "images/client-three.png\n",
            "./images/freecodecamp-logo.png\n"
          ]
        }
      ]
    }
  ]
}