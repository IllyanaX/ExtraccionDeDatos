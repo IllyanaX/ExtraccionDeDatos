{
  "nbformat": 4,
  "nbformat_minor": 0,
  "metadata": {
    "colab": {
      "provenance": [],
      "authorship_tag": "ABX9TyMPu8sta+Kb5yOlOs1GrsoE",
      "include_colab_link": true
    },
    "kernelspec": {
      "name": "python3",
      "display_name": "Python 3"
    },
    "language_info": {
      "name": "python"
    }
  },
  "cells": [
    {
      "cell_type": "markdown",
      "metadata": {
        "id": "view-in-github",
        "colab_type": "text"
      },
      "source": [
        "<a href=\"https://colab.research.google.com/github/IllyanaX/ExtraccionDeDatos/blob/main/Web_Scraping.ipynb\" target=\"_parent\"><img src=\"https://colab.research.google.com/assets/colab-badge.svg\" alt=\"Open In Colab\"/></a>"
      ]
    },
    {
      "cell_type": "markdown",
      "source": [
        "# **Como usar una API**\n",
        "\n",
        "## Uso de API de manera directa\n",
        "\n",
        "Realizaremos un ejemplo sencillo con el método GET, para la extracción de datos de la página https://sunrise-sunset.org/api que ofrece el tiempo en el que salió o se pusó el solo dependiendo de una latitud y una longitud dadas.\n",
        "\n",
        "Las APIs suelen tener dos tipos de parámetros para el requerimiento de datos: obligatorios y opcionales. En el caso de nuestro ejemplo los parámetros son:\n",
        "\n",
        "* Latitud (lat): Parámentro es obligatorio y debe especificarse como un tipo de dato float.\n",
        "* Longitud (lng): Parámentro es obligatorio y debe especificarse como un tipo de dato float.\n",
        "* Fecha (date): Parámetro opcional, el formato debe ser: AAAA-MM-DD, aunque esta API acepta otros formatos, si no se ingresa ninguna fecha en específico, utiliza el día actual\n",
        "* Función *callback*: Parámetro opcional, tipo de dato string.\n",
        "* Identificador de zona horaria (tzld): Parámetro opcional, este parámetro nos permite establacer la zona horario, tipo de dato string.\n",
        "\n",
        "La estructura de la consutla (*query*):\n",
        "\n",
        "URL base con el respectivo dato de transmisión, en este caso JSON:\n",
        "\n",
        "`https://api.sunrise-sunset.org/json?`\n",
        "\n",
        "Los parámetros:\n",
        "\n",
        "`lat = 19.437034782996776`\n",
        "\n",
        "`lng = -99.15456376522646`\n",
        "\n",
        "`date = 2023-01-01`\n"
      ],
      "metadata": {
        "id": "g-1XihdJEe7Z"
      }
    },
    {
      "cell_type": "code",
      "source": [
        "import requests\n",
        "import json"
      ],
      "metadata": {
        "id": "YfIkspGyTNZm"
      },
      "execution_count": null,
      "outputs": []
    },
    {
      "cell_type": "code",
      "source": [
        "# Definimos los parámetros de la query\n",
        "\n",
        "latitude = 19.437034782996776\n",
        "longitude = -99.15456376522646\n",
        "date = \"2023-01-01\"\n",
        "\n",
        "# Realizamos la consulta y la almacenamos en una variable nueva\n",
        "\n",
        "sunset_answer = requests.get(f\"https://api.sunrise-sunset.org/json?lat={latitude}&lng=*{longitude}&date={date}\")"
      ],
      "metadata": {
        "id": "8WrlcNZfItCG"
      },
      "execution_count": null,
      "outputs": []
    },
    {
      "cell_type": "code",
      "source": [
        "type(sunset_answer)"
      ],
      "metadata": {
        "colab": {
          "base_uri": "https://localhost:8080/"
        },
        "id": "m6bS30sGT8z3",
        "outputId": "a86ba855-f3c0-4f58-dc40-92ee1fabc926"
      },
      "execution_count": null,
      "outputs": [
        {
          "output_type": "execute_result",
          "data": {
            "text/plain": [
              "requests.models.Response"
            ]
          },
          "metadata": {},
          "execution_count": 4
        }
      ]
    },
    {
      "cell_type": "code",
      "source": [
        "# Cargamos el objeto como JSON, porque hasta ahora es de tipo 'HHTPRESPONSE', a través de su des-seralización\n",
        "sunset_data = sunset_answer.json()\n",
        "print(sunset_data)"
      ],
      "metadata": {
        "colab": {
          "base_uri": "https://localhost:8080/"
        },
        "id": "xQ3itoj9UDyR",
        "outputId": "ab6f8a56-d7a0-4ce9-bf42-aa35e0dac18f"
      },
      "execution_count": null,
      "outputs": [
        {
          "output_type": "stream",
          "name": "stdout",
          "text": [
            "{'results': {'sunrise': '6:32:45 AM', 'sunset': '5:34:08 PM', 'solar_noon': '12:03:26 PM', 'day_length': '11:01:23', 'civil_twilight_begin': '6:10:10 AM', 'civil_twilight_end': '5:56:43 PM', 'nautical_twilight_begin': '5:42:51 AM', 'nautical_twilight_end': '6:24:02 PM', 'astronomical_twilight_begin': '5:15:50 AM', 'astronomical_twilight_end': '6:51:03 PM'}, 'status': 'OK', 'tzId': 'UTC'}\n"
          ]
        }
      ]
    },
    {
      "cell_type": "code",
      "source": [
        "type(sunset_data)"
      ],
      "metadata": {
        "colab": {
          "base_uri": "https://localhost:8080/"
        },
        "id": "pgO3CkOi7lpE",
        "outputId": "134118cc-7c57-491f-e843-4b317ffb0a5c"
      },
      "execution_count": null,
      "outputs": [
        {
          "output_type": "execute_result",
          "data": {
            "text/plain": [
              "dict"
            ]
          },
          "metadata": {},
          "execution_count": 6
        }
      ]
    },
    {
      "cell_type": "code",
      "source": [
        "#Como nuestro objeto es un diccionario podemos usarlo como tal\n",
        "sunset_data['results']['sunset']"
      ],
      "metadata": {
        "colab": {
          "base_uri": "https://localhost:8080/",
          "height": 35
        },
        "id": "O-BZFGIMDYjH",
        "outputId": "2bc4d609-90dd-460f-eb64-965b7cfc0c5b"
      },
      "execution_count": null,
      "outputs": [
        {
          "output_type": "execute_result",
          "data": {
            "text/plain": [
              "'5:34:08 PM'"
            ],
            "application/vnd.google.colaboratory.intrinsic+json": {
              "type": "string"
            }
          },
          "metadata": {},
          "execution_count": 9
        }
      ]
    },
    {
      "cell_type": "code",
      "source": [
        "sunset_data[\"results\"]"
      ],
      "metadata": {
        "colab": {
          "base_uri": "https://localhost:8080/"
        },
        "id": "FIHcqBhmerR9",
        "outputId": "3b80243c-d463-41b3-d26e-dad7a30c011c"
      },
      "execution_count": null,
      "outputs": [
        {
          "output_type": "execute_result",
          "data": {
            "text/plain": [
              "{'sunrise': '6:32:45 AM',\n",
              " 'sunset': '5:34:08 PM',\n",
              " 'solar_noon': '12:03:26 PM',\n",
              " 'day_length': '11:01:23',\n",
              " 'civil_twilight_begin': '6:10:10 AM',\n",
              " 'civil_twilight_end': '5:56:43 PM',\n",
              " 'nautical_twilight_begin': '5:42:51 AM',\n",
              " 'nautical_twilight_end': '6:24:02 PM',\n",
              " 'astronomical_twilight_begin': '5:15:50 AM',\n",
              " 'astronomical_twilight_end': '6:51:03 PM'}"
            ]
          },
          "metadata": {},
          "execution_count": 11
        }
      ]
    },
    {
      "cell_type": "code",
      "source": [
        "sunrise = sunset_data[\"results\"]['sunrise']\n",
        "print(f\"En {date} el sol salió a las {sunrise} (UTC)\")"
      ],
      "metadata": {
        "colab": {
          "base_uri": "https://localhost:8080/"
        },
        "id": "v_pUqAXbhvGx",
        "outputId": "45347d28-b785-4850-d417-e3b4e2764c2f"
      },
      "execution_count": null,
      "outputs": [
        {
          "output_type": "stream",
          "name": "stdout",
          "text": [
            "En 2023-01-01 el sol salió a las 6:32:45 AM (UTC)\n"
          ]
        }
      ]
    },
    {
      "cell_type": "markdown",
      "source": [
        "## Uso de API por medio de un libreria"
      ],
      "metadata": {
        "id": "GzUajxZci6rb"
      }
    }
  ]
}